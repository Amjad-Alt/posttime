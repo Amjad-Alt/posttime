{
 "cells": [
  {
   "cell_type": "markdown",
   "metadata": {},
   "source": [
    "## Context\n",
    "This dataset ([source](https://www.kaggle.com/szymonjanowski/internet-articles-data-with-users-engagement)) consists of data about news articles collected from Sept. 3, 2019 until Nov. 4, 2019. Afterwards, it is enriched by Facebook engagement data, such as number of shares, comments and reactions. It was first created to predict the popularity of an article before it was published. However, there is a lot more you can analyze; take a look at some suggestions at the end of this template."
   ]
  },
  {
   "cell_type": "code",
   "execution_count": 46,
   "metadata": {},
   "outputs": [],
   "source": [
    "# Load packages\n",
    "import numpy as np \n",
    "import pandas as pd \n",
    "#for plots\n",
    "import seaborn as sns\n",
    "import matplotlib.pyplot as plt\n"
   ]
  },
  {
   "cell_type": "markdown",
   "metadata": {},
   "source": [
    "## Load your data"
   ]
  },
  {
   "cell_type": "code",
   "execution_count": 47,
   "metadata": {},
   "outputs": [
    {
     "name": "stdout",
     "output_type": "stream",
     "text": [
      "Number of rows/records: 10437\n",
      "Number of columns/variables: 14\n"
     ]
    },
    {
     "data": {
      "text/html": [
       "<div>\n",
       "<style scoped>\n",
       "    .dataframe tbody tr th:only-of-type {\n",
       "        vertical-align: middle;\n",
       "    }\n",
       "\n",
       "    .dataframe tbody tr th {\n",
       "        vertical-align: top;\n",
       "    }\n",
       "\n",
       "    .dataframe thead th {\n",
       "        text-align: right;\n",
       "    }\n",
       "</style>\n",
       "<table border=\"1\" class=\"dataframe\">\n",
       "  <thead>\n",
       "    <tr style=\"text-align: right;\">\n",
       "      <th></th>\n",
       "      <th>source_id</th>\n",
       "      <th>source_name</th>\n",
       "      <th>author</th>\n",
       "      <th>title</th>\n",
       "      <th>description</th>\n",
       "      <th>url</th>\n",
       "      <th>url_to_image</th>\n",
       "      <th>published_at</th>\n",
       "      <th>content</th>\n",
       "      <th>top_article</th>\n",
       "      <th>engagement_reaction_count</th>\n",
       "      <th>engagement_comment_count</th>\n",
       "      <th>engagement_share_count</th>\n",
       "      <th>engagement_comment_plugin_count</th>\n",
       "    </tr>\n",
       "  </thead>\n",
       "  <tbody>\n",
       "    <tr>\n",
       "      <th>0</th>\n",
       "      <td>reuters</td>\n",
       "      <td>Reuters</td>\n",
       "      <td>Reuters Editorial</td>\n",
       "      <td>NTSB says Autopilot engaged in 2018 California...</td>\n",
       "      <td>The National Transportation Safety Board said ...</td>\n",
       "      <td>https://www.reuters.com/article/us-tesla-crash...</td>\n",
       "      <td>https://s4.reutersmedia.net/resources/r/?m=02&amp;...</td>\n",
       "      <td>2019-09-03T16:22:20Z</td>\n",
       "      <td>WASHINGTON (Reuters) - The National Transporta...</td>\n",
       "      <td>0.0</td>\n",
       "      <td>0.0</td>\n",
       "      <td>0.0</td>\n",
       "      <td>2528.0</td>\n",
       "      <td>0.0</td>\n",
       "    </tr>\n",
       "    <tr>\n",
       "      <th>1</th>\n",
       "      <td>the-irish-times</td>\n",
       "      <td>The Irish Times</td>\n",
       "      <td>Eoin Burke-Kennedy</td>\n",
       "      <td>Unemployment falls to post-crash low of 5.2%</td>\n",
       "      <td>Latest monthly figures reflect continued growt...</td>\n",
       "      <td>https://www.irishtimes.com/business/economy/un...</td>\n",
       "      <td>https://www.irishtimes.com/image-creator/?id=1...</td>\n",
       "      <td>2019-09-03T10:32:28Z</td>\n",
       "      <td>The States jobless rate fell to 5.2 per cent l...</td>\n",
       "      <td>0.0</td>\n",
       "      <td>6.0</td>\n",
       "      <td>10.0</td>\n",
       "      <td>2.0</td>\n",
       "      <td>0.0</td>\n",
       "    </tr>\n",
       "    <tr>\n",
       "      <th>2</th>\n",
       "      <td>the-irish-times</td>\n",
       "      <td>The Irish Times</td>\n",
       "      <td>Deirdre McQuillan</td>\n",
       "      <td>Louise Kennedy AW2019: Long coats, sparkling t...</td>\n",
       "      <td>Autumn-winter collection features designer’s g...</td>\n",
       "      <td>https://www.irishtimes.com/\\t\\t\\t\\t\\t\\t\\t/life...</td>\n",
       "      <td>https://www.irishtimes.com/image-creator/?id=1...</td>\n",
       "      <td>2019-09-03T14:40:00Z</td>\n",
       "      <td>Louise Kennedy is showing off her autumn-winte...</td>\n",
       "      <td>1.0</td>\n",
       "      <td>NaN</td>\n",
       "      <td>NaN</td>\n",
       "      <td>NaN</td>\n",
       "      <td>NaN</td>\n",
       "    </tr>\n",
       "  </tbody>\n",
       "</table>\n",
       "</div>"
      ],
      "text/plain": [
       "         source_id      source_name              author  \\\n",
       "0          reuters          Reuters   Reuters Editorial   \n",
       "1  the-irish-times  The Irish Times  Eoin Burke-Kennedy   \n",
       "2  the-irish-times  The Irish Times   Deirdre McQuillan   \n",
       "\n",
       "                                               title  \\\n",
       "0  NTSB says Autopilot engaged in 2018 California...   \n",
       "1       Unemployment falls to post-crash low of 5.2%   \n",
       "2  Louise Kennedy AW2019: Long coats, sparkling t...   \n",
       "\n",
       "                                         description  \\\n",
       "0  The National Transportation Safety Board said ...   \n",
       "1  Latest monthly figures reflect continued growt...   \n",
       "2  Autumn-winter collection features designer’s g...   \n",
       "\n",
       "                                                 url  \\\n",
       "0  https://www.reuters.com/article/us-tesla-crash...   \n",
       "1  https://www.irishtimes.com/business/economy/un...   \n",
       "2  https://www.irishtimes.com/\\t\\t\\t\\t\\t\\t\\t/life...   \n",
       "\n",
       "                                        url_to_image          published_at  \\\n",
       "0  https://s4.reutersmedia.net/resources/r/?m=02&...  2019-09-03T16:22:20Z   \n",
       "1  https://www.irishtimes.com/image-creator/?id=1...  2019-09-03T10:32:28Z   \n",
       "2  https://www.irishtimes.com/image-creator/?id=1...  2019-09-03T14:40:00Z   \n",
       "\n",
       "                                             content  top_article  \\\n",
       "0  WASHINGTON (Reuters) - The National Transporta...          0.0   \n",
       "1  The States jobless rate fell to 5.2 per cent l...          0.0   \n",
       "2  Louise Kennedy is showing off her autumn-winte...          1.0   \n",
       "\n",
       "   engagement_reaction_count  engagement_comment_count  \\\n",
       "0                        0.0                       0.0   \n",
       "1                        6.0                      10.0   \n",
       "2                        NaN                       NaN   \n",
       "\n",
       "   engagement_share_count  engagement_comment_plugin_count  \n",
       "0                  2528.0                              0.0  \n",
       "1                     2.0                              0.0  \n",
       "2                     NaN                              NaN  "
      ]
     },
     "execution_count": 47,
     "metadata": {},
     "output_type": "execute_result"
    }
   ],
   "source": [
    "# Load data from the csv file\n",
    "df = pd.read_csv('news_articles.csv', index_col=0)\n",
    "print(f\"Number of rows/records: {df.shape[0]}\")\n",
    "print(f\"Number of columns/variables: {df.shape[1]}\")\n",
    "df.head(3)"
   ]
  },
  {
   "cell_type": "code",
   "execution_count": 3,
   "metadata": {},
   "outputs": [],
   "source": [
    "# Start coding "
   ]
  },
  {
   "cell_type": "code",
   "execution_count": 48,
   "metadata": {},
   "outputs": [
    {
     "data": {
      "text/plain": [
       "source_id                           object\n",
       "source_name                         object\n",
       "author                              object\n",
       "title                               object\n",
       "description                         object\n",
       "url                                 object\n",
       "url_to_image                        object\n",
       "published_at                        object\n",
       "content                             object\n",
       "top_article                        float64\n",
       "engagement_reaction_count          float64\n",
       "engagement_comment_count           float64\n",
       "engagement_share_count             float64\n",
       "engagement_comment_plugin_count    float64\n",
       "dtype: object"
      ]
     },
     "execution_count": 48,
     "metadata": {},
     "output_type": "execute_result"
    }
   ],
   "source": [
    "#Check the type of varibles\n",
    "df.dtypes"
   ]
  },
  {
   "cell_type": "code",
   "execution_count": 50,
   "metadata": {},
   "outputs": [],
   "source": [
    "#change (published at) to datetime type\n",
    "df['published_at'] = pd.to_datetime(df['published_at'])\n",
    "\n",
    "#change (source name) to categorical type\n",
    "df['source_name'] = df['source_name'].astype('category')\n",
    "\n",
    "#change (top articals) to categorycal type\n",
    "df['top_acticle'] = df['top_article'].astype('category')"
   ]
  },
  {
   "cell_type": "code",
   "execution_count": 53,
   "metadata": {},
   "outputs": [
    {
     "data": {
      "text/plain": [
       "0        False\n",
       "1        False\n",
       "2        False\n",
       "3        False\n",
       "4        False\n",
       "         ...  \n",
       "10432    False\n",
       "10433    False\n",
       "10434    False\n",
       "10435    False\n",
       "10436    False\n",
       "Length: 10437, dtype: bool"
      ]
     },
     "execution_count": 53,
     "metadata": {},
     "output_type": "execute_result"
    }
   ],
   "source": [
    "#see if there are any duplicates\n",
    "df.duplicated()"
   ]
  },
  {
   "cell_type": "raw",
   "metadata": {},
   "source": [
    "It seems there is no duplication in our data"
   ]
  },
  {
   "cell_type": "code",
   "execution_count": 54,
   "metadata": {},
   "outputs": [
    {
     "data": {
      "text/plain": [
       "source_id                             0\n",
       "source_name                           0\n",
       "author                             1020\n",
       "title                                 2\n",
       "description                          24\n",
       "url                                   1\n",
       "url_to_image                        656\n",
       "published_at                          1\n",
       "content                            1292\n",
       "top_article                           2\n",
       "engagement_reaction_count           118\n",
       "engagement_comment_count            118\n",
       "engagement_share_count              118\n",
       "engagement_comment_plugin_count     118\n",
       "top_acticle                           2\n",
       "dtype: int64"
      ]
     },
     "execution_count": 54,
     "metadata": {},
     "output_type": "execute_result"
    }
   ],
   "source": [
    "#see how much our data has NA \n",
    "df.isnull().sum()"
   ]
  },
  {
   "cell_type": "raw",
   "metadata": {},
   "source": [
    "There are a number of None in our data most of it in the content and the author. Overall if er delete all of them by rows we are going to lose a lot of informative data so we are going to deal with them later."
   ]
  },
  {
   "cell_type": "raw",
   "metadata": {},
   "source": [
    "According to the description of the dataset, both source_name and source_id have the same values. Therefore, we need only one column and I choose to keep source_name because it has fewer characters like _.,"
   ]
  },
  {
   "cell_type": "code",
   "execution_count": 8,
   "metadata": {},
   "outputs": [],
   "source": [
    "#delete source_id\n",
    "del df['source_id']"
   ]
  },
  {
   "cell_type": "code",
   "execution_count": 9,
   "metadata": {},
   "outputs": [
    {
     "data": {
      "text/plain": [
       "(array([ 0,  1,  2,  3,  4,  5,  6,  7,  8,  9, 10, 11, 12]),\n",
       " [Text(0, 0, '460.0'),\n",
       "  Text(1, 0, 'ABC News'),\n",
       "  Text(2, 0, 'Al Jazeera English'),\n",
       "  Text(3, 0, 'BBC News'),\n",
       "  Text(4, 0, 'Business Insider'),\n",
       "  Text(5, 0, 'CBS News'),\n",
       "  Text(6, 0, 'CNN'),\n",
       "  Text(7, 0, 'ESPN'),\n",
       "  Text(8, 0, 'Newsweek'),\n",
       "  Text(9, 0, 'Reuters'),\n",
       "  Text(10, 0, 'The Irish Times'),\n",
       "  Text(11, 0, 'The New York Times'),\n",
       "  Text(12, 0, 'The Wall Street Journal')])"
      ]
     },
     "execution_count": 9,
     "metadata": {},
     "output_type": "execute_result"
    },
    {
     "data": {
      "image/png": "[encoded data removed]",
      "text/plain": [
       "<Figure size 360x360 with 1 Axes>"
      ]
     },
     "metadata": {
      "needs_background": "light"
     },
     "output_type": "display_data"
    }
   ],
   "source": [
    "#plot (source_name) to see the publishers \n",
    "sns.catplot(x=\"source_name\", kind=\"count\", palette=\"ch:.25\", data=df)\n",
    "plt.xlabel(\"Sourses\")\n",
    "plt.xticks(rotation = 90)"
   ]
  },
  {
   "cell_type": "raw",
   "metadata": {
    "tags": []
   },
   "source": [
    " There are 13 publishers in this data. Most of them have more than 600 articles. The highest articles in this dataset are published by BBC News and Reuters by over 1200 articles each. There is one publisher that has a few articles and it has a weird name 460.0 so we have to check it out!"
   ]
  },
  {
   "cell_type": "code",
   "execution_count": 55,
   "metadata": {},
   "outputs": [
    {
     "name": "stdout",
     "output_type": "stream",
     "text": [
      "    source_id source_name author  title description  url url_to_image  \\\n",
      "750         1       460.0  151.0  352.0         0.0  NaN          NaN   \n",
      "\n",
      "    published_at content  top_article  engagement_reaction_count  \\\n",
      "750          NaT     NaN          NaN                        NaN   \n",
      "\n",
      "     engagement_comment_count  engagement_share_count  \\\n",
      "750                       NaN                     NaN   \n",
      "\n",
      "     engagement_comment_plugin_count top_acticle  \n",
      "750                              NaN         NaN  \n"
     ]
    }
   ],
   "source": [
    "#What is this value?\n",
    "print(df[df['source_name'] == '460.0'])"
   ]
  },
  {
   "cell_type": "code",
   "execution_count": 11,
   "metadata": {},
   "outputs": [],
   "source": [
    "#it appears that it is not important and most of it is NAN so we delete it\n",
    "df = df.drop(df.index[750])"
   ]
  },
  {
   "cell_type": "code",
   "execution_count": 56,
   "metadata": {},
   "outputs": [
    {
     "data": {
      "text/plain": [
       "(10437, 15)"
      ]
     },
     "execution_count": 56,
     "metadata": {},
     "output_type": "execute_result"
    }
   ],
   "source": [
    "#check if it is deleted \n",
    "df.shape"
   ]
  },
  {
   "cell_type": "code",
   "execution_count": 57,
   "metadata": {},
   "outputs": [
    {
     "data": {
      "text/plain": [
       "count    10435.000000\n",
       "mean         0.122089\n",
       "std          0.327404\n",
       "min          0.000000\n",
       "25%          0.000000\n",
       "50%          0.000000\n",
       "75%          0.000000\n",
       "max          1.000000\n",
       "Name: top_article, dtype: float64"
      ]
     },
     "execution_count": 57,
     "metadata": {},
     "output_type": "execute_result"
    }
   ],
   "source": [
    "#overview of the column top_article\n",
    "df['top_article'].describe()"
   ]
  },
  {
   "cell_type": "raw",
   "metadata": {},
   "source": [
    "According to the data description, it should be categorical. However, if the article is 1 it means it is popular otherwise it is not. The only thing we notice is that almost 75% of the values are 0. "
   ]
  },
  {
   "cell_type": "code",
   "execution_count": 14,
   "metadata": {},
   "outputs": [
    {
     "data": {
      "text/plain": [
       "Text(0.5, 1.0, 'reaction to articales')"
      ]
     },
     "execution_count": 14,
     "metadata": {},
     "output_type": "execute_result"
    },
    {
     "data": {
      "image/png": "[encoded data removed]",
      "text/plain": [
       "<Figure size 432x288 with 1 Axes>"
      ]
     },
     "metadata": {
      "needs_background": "light"
     },
     "output_type": "display_data"
    }
   ],
   "source": [
    "#plot engagement_reaction_count\n",
    "plt.hist(df['engagement_reaction_count'],range=[0, 10], color='#580f41', align='mid')\n",
    "plt.xlabel('people reaction')\n",
    "plt.ylabel('count')\n",
    "plt.title('reaction to articales')"
   ]
  },
  {
   "cell_type": "code",
   "execution_count": 15,
   "metadata": {},
   "outputs": [
    {
     "data": {
      "text/plain": [
       "count     10319.000000\n",
       "mean        381.395290\n",
       "std        4433.344792\n",
       "min           0.000000\n",
       "25%           0.000000\n",
       "50%           1.000000\n",
       "75%          43.000000\n",
       "max      354132.000000\n",
       "Name: engagement_reaction_count, dtype: float64"
      ]
     },
     "execution_count": 15,
     "metadata": {},
     "output_type": "execute_result"
    }
   ],
   "source": [
    "\n",
    "#overview of the column engagenent_reaction_count\n",
    "df['engagement_reaction_count'].describe()"
   ]
  },
  {
   "cell_type": "raw",
   "metadata": {},
   "source": [
    "The histogram showing above is a right-skewed histogram. The range is between 0 to 354132 reactions for each article. The average number of reactions per article is 381 with a standard deviation of 4433 from the mean. Which makes it clear that this column has outliers. "
   ]
  },
  {
   "cell_type": "code",
   "execution_count": 16,
   "metadata": {},
   "outputs": [
    {
     "data": {
      "text/plain": [
       "Text(0.5, 1.0, 'number of shares for the articales')"
      ]
     },
     "execution_count": 16,
     "metadata": {},
     "output_type": "execute_result"
    },
    {
     "data": {
      "image/png": "[encoded data removed]",
      "text/plain": [
       "<Figure size 432x288 with 1 Axes>"
      ]
     },
     "metadata": {
      "needs_background": "light"
     },
     "output_type": "display_data"
    }
   ],
   "source": [
    "#plot engagement_share_count\n",
    "plt.hist(df['engagement_share_count'],range=[0, 100], color='brown',alpha=0.5, align='mid')\n",
    "plt.grid(b=None)\n",
    "plt.xlabel('people share')\n",
    "plt.ylabel('count')\n",
    "plt.title('number of shares for the articales')"
   ]
  },
  {
   "cell_type": "code",
   "execution_count": 17,
   "metadata": {},
   "outputs": [
    {
     "data": {
      "text/plain": [
       "count    10319.000000\n",
       "mean       196.236263\n",
       "std       1020.680229\n",
       "min          0.000000\n",
       "25%          1.000000\n",
       "50%          8.000000\n",
       "75%         47.500000\n",
       "max      39422.000000\n",
       "Name: engagement_share_count, dtype: float64"
      ]
     },
     "execution_count": 17,
     "metadata": {},
     "output_type": "execute_result"
    }
   ],
   "source": [
    "#overview of the column engagenent_share_count\n",
    "df['engagement_share_count'].describe()"
   ]
  },
  {
   "cell_type": "raw",
   "metadata": {},
   "source": [
    "According to the information showing above the range of people sharing the article is between 0 to 39422. The histogram is also right-scwed with a mean of 196 and a standard deviation of 1020.6. Which is also shows that the data has outliers."
   ]
  },
  {
   "cell_type": "code",
   "execution_count": 18,
   "metadata": {},
   "outputs": [
    {
     "data": {
      "text/plain": [
       "Text(0.5, 1.0, 'number of comments for the articales')"
      ]
     },
     "execution_count": 18,
     "metadata": {},
     "output_type": "execute_result"
    },
    {
     "data": {
      "image/png": "[encoded data removed]",
      "text/plain": [
       "<Figure size 432x288 with 1 Axes>"
      ]
     },
     "metadata": {
      "needs_background": "light"
     },
     "output_type": "display_data"
    }
   ],
   "source": [
    "#plot engagement_comment_count\n",
    "plt.hist(df['engagement_comment_count'],range=[0, 10], color='#D2B48C', align='mid')\n",
    "plt.xlabel('people comments')\n",
    "plt.ylabel('count')\n",
    "plt.title('number of comments for the articales')"
   ]
  },
  {
   "cell_type": "code",
   "execution_count": 19,
   "metadata": {},
   "outputs": [
    {
     "data": {
      "text/plain": [
       "count    10319.000000\n",
       "mean       124.032949\n",
       "std        965.351188\n",
       "min          0.000000\n",
       "25%          0.000000\n",
       "50%          0.000000\n",
       "75%         12.000000\n",
       "max      48490.000000\n",
       "Name: engagement_comment_count, dtype: float64"
      ]
     },
     "execution_count": 19,
     "metadata": {},
     "output_type": "execute_result"
    }
   ],
   "source": [
    "#overview of the column engagenent_comment_count\n",
    "df['engagement_comment_count'].describe()"
   ]
  },
  {
   "cell_type": "raw",
   "metadata": {},
   "source": [
    "In this column, which shows the number of comments of each article, the range of comments is between 0 to 48490. This is also a right scwed histogram with a mean of 124 and a standard deviation of 965. There are definitely outliers. "
   ]
  },
  {
   "cell_type": "code",
   "execution_count": 20,
   "metadata": {},
   "outputs": [
    {
     "data": {
      "text/plain": [
       "Text(0.5, 1.0, 'number of comment plugin of each artical')"
      ]
     },
     "execution_count": 20,
     "metadata": {},
     "output_type": "execute_result"
    },
    {
     "data": {
      "image/png": "[encoded data removed]",
      "text/plain": [
       "<Figure size 432x288 with 1 Axes>"
      ]
     },
     "metadata": {
      "needs_background": "light"
     },
     "output_type": "display_data"
    }
   ],
   "source": [
    "#plot of engagement_comment_plugin_count\n",
    "plt.hist(df['engagement_comment_plugin_count'], range=[0, 15], color='gray',alpha=0.7, align='mid')\n",
    "plt.grid(b=None)\n",
    "plt.xlabel('comment plugin')\n",
    "plt.ylabel('count')\n",
    "plt.title('number of comment plugin of each artical')"
   ]
  },
  {
   "cell_type": "code",
   "execution_count": 21,
   "metadata": {},
   "outputs": [
    {
     "data": {
      "text/plain": [
       "count    10319.000000\n",
       "mean         0.011629\n",
       "std          0.268276\n",
       "min          0.000000\n",
       "25%          0.000000\n",
       "50%          0.000000\n",
       "75%          0.000000\n",
       "max         15.000000\n",
       "Name: engagement_comment_plugin_count, dtype: float64"
      ]
     },
     "execution_count": 21,
     "metadata": {},
     "output_type": "execute_result"
    }
   ],
   "source": [
    "df['engagement_comment_plugin_count'].describe()"
   ]
  },
  {
   "cell_type": "raw",
   "metadata": {},
   "source": [
    "The values of engagement in this column are hugely different from the others. The range is so small between 0 to 15. The mean is 0 and the standard deviation is almost 0 too. It is clear that there are outliers. "
   ]
  },
  {
   "cell_type": "markdown",
   "metadata": {},
   "source": [
    "#\n",
    "For our purpose of finding the best day and time to post an article, I will join the four columns (share, comment, comment plugin, and reaction)since they are the same category and deliver the same message which is how many people engage on these articles. I will not combine the top article column because it doesn't have the same value as others since it is categorical with only 0-1 values. In addition to that, I will not delete the outliers for now maybe they are important."
   ]
  },
  {
   "cell_type": "code",
   "execution_count": 22,
   "metadata": {},
   "outputs": [],
   "source": [
    "#join the four columns in one\n",
    "df['engagement'] = df['engagement_comment_plugin_count']+df['engagement_comment_count']+df['engagement_share_count']+df['engagement_reaction_count']"
   ]
  },
  {
   "cell_type": "code",
   "execution_count": 23,
   "metadata": {},
   "outputs": [
    {
     "data": {
      "text/plain": [
       "Text(0.5, 1.0, 'number of engagement for the articals')"
      ]
     },
     "execution_count": 23,
     "metadata": {},
     "output_type": "execute_result"
    },
    {
     "data": {
      "image/png": "[encoded data removed]",
      "text/plain": [
       "<Figure size 432x288 with 1 Axes>"
      ]
     },
     "metadata": {},
     "output_type": "display_data"
    }
   ],
   "source": [
    "#plot engamement \n",
    "sns.set_theme(style='whitegrid')\n",
    "sns.stripplot(df['engagement'], jitter=0.45, alpha=0.5, color=\"#580f41\").set_title('number of engagement for the articals')"
   ]
  },
  {
   "cell_type": "raw",
   "metadata": {},
   "source": [
    "We notice in this plot that most of the values lay around 0. there are some values less than 100000. However, there are four values over 100000 and we shall check for the outliers."
   ]
  },
  {
   "cell_type": "code",
   "execution_count": 24,
   "metadata": {},
   "outputs": [
    {
     "data": {
      "text/plain": [
       "<AxesSubplot:xlabel='engagement'>"
      ]
     },
     "execution_count": 24,
     "metadata": {},
     "output_type": "execute_result"
    },
    {
     "data": {
      "image/png": "[encoded data removed]",
      "text/plain": [
       "<Figure size 432x288 with 1 Axes>"
      ]
     },
     "metadata": {},
     "output_type": "display_data"
    }
   ],
   "source": [
    "# lets have an overview of the otliers we have using the boxplot\n",
    "sns.set_theme(style='whitegrid')\n",
    "sns.boxplot(df['engagement'])"
   ]
  },
  {
   "cell_type": "raw",
   "metadata": {},
   "source": [
    "# it seems a lot! but I don't think it is best to delete them! they have a story to tell. I am going to delete only the four values over 100000"
   ]
  },
  {
   "cell_type": "code",
   "execution_count": 25,
   "metadata": {},
   "outputs": [],
   "source": [
    "#remove values over 100000 in engagement column\n",
    "df = df[~ (df['engagement'] > 100000)]"
   ]
  },
  {
   "cell_type": "code",
   "execution_count": 26,
   "metadata": {},
   "outputs": [
    {
     "data": {
      "text/plain": [
       "117"
      ]
     },
     "execution_count": 26,
     "metadata": {},
     "output_type": "execute_result"
    }
   ],
   "source": [
    "#How many null we have in this column\n",
    "df['engagement'].isnull().sum()"
   ]
  },
  {
   "cell_type": "code",
   "execution_count": 27,
   "metadata": {},
   "outputs": [
    {
     "data": {
      "text/plain": [
       "0        2528.0\n",
       "1          18.0\n",
       "3           7.0\n",
       "4           0.0\n",
       "5           0.0\n",
       "          ...  \n",
       "10432       0.0\n",
       "10433     627.0\n",
       "10434    4717.0\n",
       "10435       0.0\n",
       "10436       0.0\n",
       "Name: engagement, Length: 10315, dtype: float64"
      ]
     },
     "execution_count": 27,
     "metadata": {},
     "output_type": "execute_result"
    }
   ],
   "source": [
    "#because there are not much, we are going to delete null\n",
    "df['engagement'].dropna()"
   ]
  },
  {
   "cell_type": "code",
   "execution_count": 28,
   "metadata": {},
   "outputs": [],
   "source": [
    "#separate date and time to differant columns\n",
    "df['date'] = df['published_at'].dt.date\n",
    "df['time'] = df['published_at'].dt.time\n",
    "\n",
    "#convert it to date type\n",
    "df['date'] = pd.to_datetime(df['date'])"
   ]
  },
  {
   "cell_type": "raw",
   "metadata": {},
   "source": [
    "It is easier to seek meaningful results when we separate the time and the date."
   ]
  },
  {
   "cell_type": "code",
   "execution_count": 29,
   "metadata": {},
   "outputs": [
    {
     "data": {
      "text/plain": [
       "0       2019-09-03\n",
       "1       2019-09-03\n",
       "2       2019-09-03\n",
       "3       2019-09-03\n",
       "4       2019-09-03\n",
       "           ...    \n",
       "10432   2019-10-03\n",
       "10433   2019-10-03\n",
       "10434   2019-10-03\n",
       "10435   2019-10-03\n",
       "10436   2019-10-03\n",
       "Name: date, Length: 10432, dtype: datetime64[ns]"
      ]
     },
     "execution_count": 29,
     "metadata": {},
     "output_type": "execute_result"
    }
   ],
   "source": [
    "df['date'] "
   ]
  },
  {
   "cell_type": "raw",
   "metadata": {},
   "source": [
    "According to the description provided the dataset is collected from 2019 only and from September to October. Since there is no diversity there is not much information that can be detected from the year and month so it is better to delete them and keep only the day."
   ]
  },
  {
   "cell_type": "code",
   "execution_count": 30,
   "metadata": {},
   "outputs": [],
   "source": [
    "#have only the day without year and month\n",
    "df['date'] = df['date'].dt.strftime('%d')"
   ]
  },
  {
   "cell_type": "code",
   "execution_count": 31,
   "metadata": {},
   "outputs": [
    {
     "data": {
      "text/plain": [
       "0        03\n",
       "1        03\n",
       "2        03\n",
       "3        03\n",
       "4        03\n",
       "         ..\n",
       "10432    03\n",
       "10433    03\n",
       "10434    03\n",
       "10435    03\n",
       "10436    03\n",
       "Name: date, Length: 10432, dtype: object"
      ]
     },
     "execution_count": 31,
     "metadata": {},
     "output_type": "execute_result"
    }
   ],
   "source": [
    "df['date']"
   ]
  },
  {
   "cell_type": "code",
   "execution_count": 44,
   "metadata": {},
   "outputs": [
    {
     "data": {
      "text/plain": [
       "date\n",
       "01     743\n",
       "02     763\n",
       "03    1567\n",
       "05     810\n",
       "06     797\n",
       "07     588\n",
       "09     630\n",
       "10     833\n",
       "12     833\n",
       "14     582\n",
       "15     623\n",
       "19     795\n",
       "27     751\n",
       "Name: engagement, dtype: int64"
      ]
     },
     "execution_count": 44,
     "metadata": {},
     "output_type": "execute_result"
    }
   ],
   "source": [
    "#the number of rows in each day\n",
    "df.groupby('date')['engagement'].count()"
   ]
  },
  {
   "cell_type": "raw",
   "metadata": {},
   "source": [
    "As we can see the number of rows of each day is closely similar except the third day. Therefore we are going to expect that it is going to have more engagements numbers than the others. "
   ]
  },
  {
   "cell_type": "code",
   "execution_count": 32,
   "metadata": {},
   "outputs": [],
   "source": [
    "#sum all obsevations of engagement in the same day\n",
    "day = df.groupby('date')['engagement'].sum()"
   ]
  },
  {
   "cell_type": "code",
   "execution_count": 33,
   "metadata": {},
   "outputs": [
    {
     "name": "stdout",
     "output_type": "stream",
     "text": [
      "date\n",
      "01     528146.0\n",
      "02     568466.0\n",
      "03    1128886.0\n",
      "05     401166.0\n",
      "06     292465.0\n",
      "07     428388.0\n",
      "09     438972.0\n",
      "10     633126.0\n",
      "12     468730.0\n",
      "14     271049.0\n",
      "15     343763.0\n",
      "19     385135.0\n",
      "27     470750.0\n",
      "Name: engagement, dtype: float64\n"
     ]
    }
   ],
   "source": [
    "print(day)"
   ]
  },
  {
   "cell_type": "code",
   "execution_count": 34,
   "metadata": {},
   "outputs": [
    {
     "data": {
      "text/plain": [
       "[<matplotlib.lines.Line2D at 0x7f11ca6d1d30>]"
      ]
     },
     "execution_count": 34,
     "metadata": {},
     "output_type": "execute_result"
    },
    {
     "data": {
      "image/png": "[encoded data removed]",
      "text/plain": [
       "<Figure size 432x288 with 1 Axes>"
      ]
     },
     "metadata": {},
     "output_type": "display_data"
    }
   ],
   "source": [
    "#plot the sum of engagement of the day\n",
    "plt.plot(day, color=\"#580f41\")"
   ]
  },
  {
   "cell_type": "raw",
   "metadata": {},
   "source": [
    "According to the plot, there are some dates that not have been published at such as days 4-8-11-13-16-17-18-20... . However, the number of engagements range is between 270000 and 630000 not including the third day because it has more articles than the others as showing earlier so it would be obvious to have more engagements numbers. Besides the third day, the tenth day shows the higher engagement day by 600000. Day 1 -2 -12- 27 shows similar numbers with a mean of almost 500000. The lowest on the other hand are the sixths and fourteenth days. "
   ]
  },
  {
   "cell_type": "code",
   "execution_count": 39,
   "metadata": {},
   "outputs": [
    {
     "data": {
      "text/plain": [
       "0        16\n",
       "1        10\n",
       "2        14\n",
       "3        17\n",
       "4        14\n",
       "         ..\n",
       "10432    16\n",
       "10433    15\n",
       "10434    11\n",
       "10435    16\n",
       "10436    16\n",
       "Name: time, Length: 10432, dtype: object"
      ]
     },
     "execution_count": 39,
     "metadata": {},
     "output_type": "execute_result"
    }
   ],
   "source": [
    "#Now moving to time \n",
    "df['time']"
   ]
  },
  {
   "cell_type": "code",
   "execution_count": 37,
   "metadata": {},
   "outputs": [],
   "source": [
    "#take only houres\n",
    "df['time'] = df['published_at'].dt.strftime('%H')"
   ]
  },
  {
   "cell_type": "code",
   "execution_count": 38,
   "metadata": {},
   "outputs": [
    {
     "data": {
      "text/plain": [
       "0        16\n",
       "1        10\n",
       "2        14\n",
       "3        17\n",
       "4        14\n",
       "         ..\n",
       "10432    16\n",
       "10433    15\n",
       "10434    11\n",
       "10435    16\n",
       "10436    16\n",
       "Name: time, Length: 10432, dtype: object"
      ]
     },
     "execution_count": 38,
     "metadata": {},
     "output_type": "execute_result"
    }
   ],
   "source": [
    "df['time']"
   ]
  },
  {
   "cell_type": "code",
   "execution_count": 40,
   "metadata": {},
   "outputs": [],
   "source": [
    "# sum all engagement from the same hour\n",
    "hour = df.groupby('time')['engagement'].sum()"
   ]
  },
  {
   "cell_type": "code",
   "execution_count": 61,
   "metadata": {},
   "outputs": [
    {
     "name": "stdout",
     "output_type": "stream",
     "text": [
      "317952.1\n"
     ]
    }
   ],
   "source": [
    "print(hour.mean())"
   ]
  },
  {
   "cell_type": "code",
   "execution_count": 41,
   "metadata": {},
   "outputs": [
    {
     "data": {
      "text/plain": [
       "[<matplotlib.lines.Line2D at 0x7f11caa63790>]"
      ]
     },
     "execution_count": 41,
     "metadata": {},
     "output_type": "execute_result"
    },
    {
     "data": {
      "image/png": "[encoded data removed]",
      "text/plain": [
       "<Figure size 432x288 with 1 Axes>"
      ]
     },
     "metadata": {},
     "output_type": "display_data"
    }
   ],
   "source": [
    "plt.plot(hour, color=\"#580f41\")"
   ]
  },
  {
   "cell_type": "raw",
   "metadata": {},
   "source": [
    "According to the plot, there are significant differences in engagement hours. As we can see the number of engagements starts to go up from 8 and it reaches the top at 14 by 800000 number of engagements. Then it starts to go down sharply after that to reach 26000 at 19. The average engagement number is 300000. There are no documents for hours 20 to 24. "
   ]
  },
  {
   "cell_type": "markdown",
   "metadata": {},
   "source": [
    "To sum up; there are many factors that affect engagements such as the popularity of the author, the popularity of the publisher, and the article title and purpose. However, the day/time factor should not be neglected too. According to the data, the best date to publish is day 10. The best time to publish is between 14-17. Finally, this data is missing a lot of values regarding some days and hours so the conclusion is not critical but worth looking at. Hoping for more data in the future to be added."
   ]
  },
  {
   "cell_type": "code",
   "execution_count": null,
   "metadata": {},
   "outputs": [],
   "source": []
  }
 ],
 "metadata": {
  "colab": {
   "name": "Welcome to DataCamp Workspaces.ipynb",
   "provenance": []
  },
  "kernelspec": {
   "display_name": "Python 3",
   "language": "python",
   "name": "python3"
  },
  "language_info": {
   "codemirror_mode": {
    "name": "ipython",
    "version": 3
   },
   "file_extension": ".py",
   "mimetype": "text/x-python",
   "name": "python",
   "nbconvert_exporter": "python",
   "pygments_lexer": "ipython3",
   "version": "3.8.8"
  }
 },
 "nbformat": 4,
 "nbformat_minor": 4
}
